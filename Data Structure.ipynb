{
 "cells": [
  {
   "cell_type": "markdown",
   "metadata": {},
   "source": [
    "                                                                **DATA TYPES AND STRUCTURES**"
   ]
  },
  {
   "cell_type": "markdown",
   "metadata": {},
   "source": [
    "1. # What are data structures, and why are they important?\n",
    "A data structure is a way of organizing and storing data so that it can be accessed and modified efficiently. The concept of a data structure involves organizing data elements into a format that allows for effective use of algorithms, with a focus on optimizing for time and space complexity.\n",
    "Data structures are important for reasons are\n",
    "1. Effciency\n",
    "2. Optimization\n",
    "3. Memory management\n",
    "4. Problem solving\n",
    "5. Algorithm\n"
   ]
  },
  {
   "cell_type": "markdown",
   "metadata": {},
   "source": [
    "2.  # Explain the difference between mutable and immutable data types with examples?\n",
    "A mutable object is one whose state or value can be changed after it is created. You can modify, update, or change the contents of a mutable object.\n",
    "Examples:\n",
    "\n",
    "Lists in Python\n",
    "Dictionaries in Python\n",
    "\n",
    "An immutable object is one whose state or value cannot be changed after it is created. Once the object is initialized, any attempt to modify it will result in a new object being created instead of altering the original one.\n",
    "\n",
    "Examples:\n",
    "\n",
    "Strings in Python\n",
    "Tuples in Python"
   ]
  },
  {
   "cell_type": "markdown",
   "metadata": {},
   "source": [
    " 3. # What are the main differences between lists and tuples in Python?\n",
    "  The difference between list and tuples are \n",
    "  1. A data or object for a list can be added, changed and removed, But for the tuple cannot be changed.\n",
    "  2. In list the items are replaced, but cannot be changed  in tuple\n",
    "  3. List are assinged in [], where tuple are assinged in ()\n",
    "  4. list are slower as tuple acccess speed.\n"
   ]
  },
  {
   "cell_type": "markdown",
   "metadata": {},
   "source": [
    " 4. # Describe how dictionaries store data?\n",
    " A dictionary in Python stores data using a data structure called a hash table.\n",
    "here dictionaries in Python store data as pairs of keys and values. Each key is unique and is used to look up a corresponding value.\n",
    "\n"
   ]
  },
  {
   "cell_type": "markdown",
   "metadata": {},
   "source": [
    " 5. # Why might you use a set instead of a list in Python?\n",
    "\n",
    "Using a set instead of a list in Python has several advantages,\n",
    "where Set: Automatically ensures that all elements are unique. If you try to add a duplicate item to a set, it will be ignored.\n",
    "List: Allows duplicates. You need to manually check for duplicates if that's important in your program.\n",
    "set is faster comparing to list.\n",
    "here removing a item is more efficient comparing to list.\n"
   ]
  },
  {
   "cell_type": "markdown",
   "metadata": {},
   "source": [
    "6. # What is a string in Python, and how is it different from a list?\n",
    "In Python, a string is a sequence of characters enclosed in either single quotes (') or double quotes (\"). It is an immutable data type, meaning that once a string is created, its contents cannot be changed. \n",
    "List is set of different data type items assigned in list which is enclosed in [] and the data assigned in list are replaced which is called to be mutable, where the content in the list can be replaced or changed.\n"
   ]
  },
  {
   "cell_type": "markdown",
   "metadata": {},
   "source": [
    " 7. # How do tuples ensure data integrity in Python?\n",
    " Tuples ensure data integrity in Python because they are immutable and  once tuple is created  that cannot be changed, add, or remove any of its elements. This makes sure that the data inside a tuple stays the same throughout the program, protecting it from accidental changes.\n"
   ]
  },
  {
   "cell_type": "markdown",
   "metadata": {},
   "source": [
    " 8. # What is a hash table, and how does it relate to dictionaries in Python?\n",
    " A hash table is a data structure that stores key-value pairs and uses a special function (called a hash function) to convert the key into an index where the value is stored. This allows for fast lookups, insertions, and deletions.\n"
   ]
  },
  {
   "cell_type": "markdown",
   "metadata": {},
   "source": [
    " 9. # Can lists contain different data types in Python?\n",
    "Yes, a list can contain different types data likewise\n",
    " [1,2,3.56,\"King\"\"Hari\",5+8j]"
   ]
  },
  {
   "cell_type": "markdown",
   "metadata": {},
   "source": [
    "10. # Explain why strings are immutable in Python?\n",
    "The strings are immutable because, the character which is assigned cannot be replaced manually.\n"
   ]
  },
  {
   "cell_type": "markdown",
   "metadata": {},
   "source": [
    " 11. # What advantages do dictionaries offer over lists for certain tasks?\n",
    " Dictionaries offer several advantages over lists for certain tasks due to their key-value pair structure and the way they handle data.\n",
    " Fast Lookups by Key\n",
    " Efficient Updates\n",
    " Uniqueness of Keys\n",
    " Flexible Key Types\n",
    " No Need for Indexing\n"
   ]
  },
  {
   "cell_type": "markdown",
   "metadata": {},
   "source": [
    " 12. # How do sets handle duplicate values in Python?\n",
    "\n",
    "In Python, sets automatically handle duplicates by removing them. When you add an element to a set, if that element is already present, it will not be added again. A set only stores unique elements.\n"
   ]
  },
  {
   "cell_type": "markdown",
   "metadata": {},
   "source": [
    " 13. # Describe a scenario where using a tuple would be preferable over a list?\n",
    "  A tuple would be better than a list if you need to store data that should not be changed. For example, if you're storing a date , you don’t want the values to change by accident. like Map Reading, Gps System.\n"
   ]
  },
  {
   "cell_type": "markdown",
   "metadata": {},
   "source": [
    "14. # How does the “in” keyword work differently for lists and dictionaries?\n",
    "here for list it will check if a value is present in the list.\n",
    "but for dictionary it check if a key is present in the dictionary, not the value.\n"
   ]
  },
  {
   "cell_type": "markdown",
   "metadata": {},
   "source": [
    " 15. # Can you modify the elements of a tuple? Explain why or why not?\n",
    "\n",
    "No, you cannot modify the elements of a tuple because tuples in Python are immutable. This means that once a tuple is created, its size and contents cannot be changed directly. You cannot add, remove, or change elements within a tuple.\n",
    "it cannot be modified because of its design Choice and hashability.\n"
   ]
  },
  {
   "cell_type": "markdown",
   "metadata": {},
   "source": [
    " 16. # What is a nested dictionary, and give an example of its use case?'\n",
    "\n",
    "A nested dictionary is a dictionary that contains another dictionary as one or more of its values. This structure allows you to represent hierarchical, structured, or relational data in a convenient way. \n",
    "Ex:\n",
    "nested_dict = {\n",
    "    \"Alice\": {\"age\": 25, \"department\": \"Engineering\", \"skills\": [\"Python\", \"C++\"]},\n",
    "    \"Bob\": {\"age\": 30, \"department\": \"Marketing\", \"skills\": [\"SEO\", \"Content Writing\"]},\n",
    "}\n"
   ]
  },
  {
   "cell_type": "markdown",
   "metadata": {},
   "source": [
    " 17. # Describe the time complexity of accessing elements in a dictionary?\n",
    " Accessing elements in a dictionary is very fast and has a time complexity of O(1), which means it takes the same amount of time no matter how many items are in the dictionary.\n",
    "This is because dictionaries use a special method (hashing) to find the value quickly using the key.\n"
   ]
  },
  {
   "cell_type": "markdown",
   "metadata": {},
   "source": [
    " 18. # In what situations are lists preferred over dictionaries?\n",
    " Lists are preferred over dictionaries in situations where\n",
    " 1. Order and Sequential Access Are Important\n",
    " 2.  No Key-Value Pairing Is Required\n",
    " 3. Frequent Index-Based Access\n"
   ]
  },
  {
   "cell_type": "markdown",
   "metadata": {},
   "source": [
    "19. # Why are dictionaries considered unordered, and how does that affect data retrieval?\n",
    "Answer: Dictionaries are considered unordered because the items (key-value pairs) do not have a specific order. This means the items might not appear in the same order every time you access them. However, this doesn't affect data retrieval. You can still quickly find values by their keys regardless of the order of the items"
   ]
  },
  {
   "cell_type": "markdown",
   "metadata": {},
   "source": [
    " 20. # Explain the difference between a list and a dictionary in terms of data retrieval ?\n",
    " The main difference between a list and a dictionary in terms of data retrieval is how you access the data:\n",
    "List: You access elements by their index (position in the list).\n",
    "Dictionary: You access elements by their key, not by position.\n"
   ]
  },
  {
   "cell_type": "markdown",
   "metadata": {},
   "source": [
    "PRACTICAL "
   ]
  },
  {
   "cell_type": "code",
   "execution_count": 1,
   "metadata": {},
   "outputs": [
    {
     "name": "stdout",
     "output_type": "stream",
     "text": [
      "Hari Vignesh\n"
     ]
    }
   ],
   "source": [
    " 1. # Write a code to create a string with your name and print it ?\n",
    "name = \"Hari Vignesh\"\n",
    "print(name)"
   ]
  },
  {
   "cell_type": "code",
   "execution_count": 3,
   "metadata": {},
   "outputs": [
    {
     "name": "stdout",
     "output_type": "stream",
     "text": [
      "11\n"
     ]
    }
   ],
   "source": [
    "2. # Write a code to find the length of the string \"Hello World\" ?\n",
    "a = \"Hello World\"\n",
    "length = len(a)\n",
    "print(length)"
   ]
  },
  {
   "cell_type": "code",
   "execution_count": 17,
   "metadata": {},
   "outputs": [
    {
     "data": {
      "text/plain": [
       "'Pyt'"
      ]
     },
     "execution_count": 17,
     "metadata": {},
     "output_type": "execute_result"
    }
   ],
   "source": [
    "3. #  Write a code to slice the first 3 characters from the string \"Python Programming\" ?\n",
    "a = \"Python Programming\"\n",
    "a[:3]"
   ]
  },
  {
   "cell_type": "code",
   "execution_count": 25,
   "metadata": {},
   "outputs": [
    {
     "data": {
      "text/plain": [
       "'HELLO'"
      ]
     },
     "execution_count": 25,
     "metadata": {},
     "output_type": "execute_result"
    }
   ],
   "source": [
    "4. # Write a code to convert the string \"hello\" to uppercase?\n",
    "a = \"hello\"\n",
    "a.upper()\n"
   ]
  },
  {
   "cell_type": "code",
   "execution_count": 30,
   "metadata": {},
   "outputs": [
    {
     "name": "stdout",
     "output_type": "stream",
     "text": [
      "I like orange\n"
     ]
    }
   ],
   "source": [
    "5. # Write a code to replace the word \"apple\" with \"orange\" in the string \"I like apple\" ?\n",
    "a = \"I like apple\"\n",
    "a = a.replace(\"apple\", \"orange\")\n",
    "print(a)"
   ]
  },
  {
   "cell_type": "code",
   "execution_count": 32,
   "metadata": {},
   "outputs": [
    {
     "name": "stdout",
     "output_type": "stream",
     "text": [
      "[1, 2, 3, 4, 5]\n"
     ]
    }
   ],
   "source": [
    "6. # Write a code to create a list with numbers 1 to 5 and print it ?\n",
    "Numbers=[1,2,3,4,5]\n",
    "print(Numbers)"
   ]
  },
  {
   "cell_type": "code",
   "execution_count": 38,
   "metadata": {},
   "outputs": [
    {
     "name": "stdout",
     "output_type": "stream",
     "text": [
      "[1, 2, 3, 4, 10]\n"
     ]
    }
   ],
   "source": [
    "7. # Write a code to append the number 10 to the list [1, 2, 3, 4] ?\n",
    "numbers = [1, 2, 3, 4]\n",
    "numbers.append(10)\n",
    "print(numbers)"
   ]
  },
  {
   "cell_type": "code",
   "execution_count": 42,
   "metadata": {},
   "outputs": [
    {
     "name": "stdout",
     "output_type": "stream",
     "text": [
      "[1, 2, 3, 4]\n"
     ]
    }
   ],
   "source": [
    "8.# Write a code to remove the number 3 from the list [1, 2, 3, 4, 5]\n",
    "numbers = [1, 2, 3, 4,5]\n",
    "numbers.remove(5)\n",
    "print(numbers)"
   ]
  },
  {
   "cell_type": "code",
   "execution_count": 3,
   "metadata": {},
   "outputs": [
    {
     "name": "stdout",
     "output_type": "stream",
     "text": [
      "b\n"
     ]
    }
   ],
   "source": [
    "9. # Write a code to access the second element in the list ['a', 'b', 'c', 'd']?\n",
    "my_list = ['a', 'b', 'c', 'd']\n",
    "second_element = my_list[1]\n",
    "print(second_element)"
   ]
  },
  {
   "cell_type": "code",
   "execution_count": 5,
   "metadata": {},
   "outputs": [
    {
     "name": "stdout",
     "output_type": "stream",
     "text": [
      "[50, 40, 30, 20, 10]\n"
     ]
    }
   ],
   "source": [
    "10. # Write a code to reverse the list [10, 20, 30, 40, 50]?\n",
    "my_numbers= [10, 20, 30, 40, 50]\n",
    "my_numbers.reverse()\n",
    "print(my_numbers)"
   ]
  },
  {
   "cell_type": "code",
   "execution_count": 6,
   "metadata": {},
   "outputs": [
    {
     "name": "stdout",
     "output_type": "stream",
     "text": [
      "(10, 20, 30)\n"
     ]
    }
   ],
   "source": [
    "11. #Write a code to create a tuple with the elements 10, 20, 30 and print it.\n",
    "my_tuple=(10,20,30)\n",
    "print(my_tuple)\n"
   ]
  },
  {
   "cell_type": "code",
   "execution_count": 12,
   "metadata": {},
   "outputs": [
    {
     "name": "stdout",
     "output_type": "stream",
     "text": [
      "apple\n"
     ]
    }
   ],
   "source": [
    "12. #Write a code to access the first element of the tuple ('apple', 'banana', 'cherry')?\n",
    "my_tuple = ('apple', 'banana', 'cherry')\n",
    "first_element = my_tuple[0]\n",
    "print(first_element)"
   ]
  },
  {
   "cell_type": "code",
   "execution_count": 14,
   "metadata": {},
   "outputs": [
    {
     "name": "stdout",
     "output_type": "stream",
     "text": [
      "3\n"
     ]
    }
   ],
   "source": [
    "13.#Write a code to count how many times the number 2 appears in the tuple (1, 2, 3, 2, 4, 2)?\n",
    "my_tuple = (1, 2, 3, 2, 4, 2)\n",
    "count_2 = my_tuple.count(2)\n",
    "print(count_2)"
   ]
  },
  {
   "cell_type": "code",
   "execution_count": 24,
   "metadata": {},
   "outputs": [
    {
     "name": "stdout",
     "output_type": "stream",
     "text": [
      "1\n"
     ]
    }
   ],
   "source": [
    "14. # Write a code to find the index of the element \"cat\" in the tuple ('dog', 'cat', 'rabbit').\n",
    "my_tuple = ('dog', 'cat', 'rabbit')\n",
    "index_of_cat = my_tuple.index('cat')\n",
    "print(index_of_cat)"
   ]
  },
  {
   "cell_type": "code",
   "execution_count": 21,
   "metadata": {},
   "outputs": [
    {
     "name": "stdout",
     "output_type": "stream",
     "text": [
      "True\n"
     ]
    }
   ],
   "source": [
    "15. #Write a code to check if the element \"banana\" is in the tuple ('apple', 'orange', 'banana')?\n",
    "my_tuple = ('apple', 'orange', 'banana')\n",
    "banana = 'banana' in my_tuple\n",
    "print(banana)"
   ]
  },
  {
   "cell_type": "code",
   "execution_count": 26,
   "metadata": {},
   "outputs": [
    {
     "name": "stdout",
     "output_type": "stream",
     "text": [
      "{1, 2, 3, 4, 5}\n"
     ]
    }
   ],
   "source": [
    "16. #Write a code to create a set with the elements 1, 2, 3, 4, 5 and print it?\n",
    "my_set = {1,2,3,4,5}\n",
    "print(my_set)"
   ]
  },
  {
   "cell_type": "code",
   "execution_count": 29,
   "metadata": {},
   "outputs": [
    {
     "name": "stdout",
     "output_type": "stream",
     "text": [
      "{1, 2, 3, 4, 6}\n"
     ]
    }
   ],
   "source": [
    "17. #Write a code to add the element 6 to the set {1, 2, 3, 4}?\n",
    "my_set={1,2,3,4,}\n",
    "my_set.add(6)\n",
    "print(my_set)\n"
   ]
  },
  {
   "cell_type": "code",
   "execution_count": 30,
   "metadata": {},
   "outputs": [
    {
     "name": "stdout",
     "output_type": "stream",
     "text": [
      "(10, 20, 30)\n"
     ]
    }
   ],
   "source": [
    "18.#Write a code to create a tuple with the elements 10, 20, 30 and print it\n",
    "my_tuple= (10,20,30)\n",
    "print(my_tuple)"
   ]
  },
  {
   "cell_type": "code",
   "execution_count": null,
   "metadata": {},
   "outputs": [],
   "source": [
    "and Q.18 to Q.24 are repeated questions."
   ]
  }
 ],
 "metadata": {
  "kernelspec": {
   "display_name": "Python 3",
   "language": "python",
   "name": "python3"
  },
  "language_info": {
   "codemirror_mode": {
    "name": "ipython",
    "version": 3
   },
   "file_extension": ".py",
   "mimetype": "text/x-python",
   "name": "python",
   "nbconvert_exporter": "python",
   "pygments_lexer": "ipython3",
   "version": "3.13.1"
  }
 },
 "nbformat": 4,
 "nbformat_minor": 2
}
